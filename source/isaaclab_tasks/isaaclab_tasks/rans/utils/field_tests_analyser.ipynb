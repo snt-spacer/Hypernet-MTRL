{
 "cells": [
  {
   "cell_type": "code",
   "execution_count": null,
   "metadata": {},
   "outputs": [],
   "source": []
  },
  {
   "cell_type": "markdown",
   "metadata": {},
   "source": [
    "# Visualize Field Test Data\n",
    "### This notebook serves as a helper to load and visualize using the global coordinates the field test experiments"
   ]
  },
  {
   "cell_type": "markdown",
   "metadata": {},
   "source": [
    "### Imports"
   ]
  },
  {
   "cell_type": "code",
   "execution_count": null,
   "metadata": {},
   "outputs": [],
   "source": [
    "import os\n",
    "import pandas as pd\n",
    "from glob import glob\n",
    "import numpy as np\n",
    "import seaborn as sns\n",
    "# pandas show all columns\n",
    "pd.set_option('display.max_columns', None)\n"
   ]
  },
  {
   "cell_type": "markdown",
   "metadata": {},
   "source": [
    "### Helper functions"
   ]
  },
  {
   "cell_type": "code",
   "execution_count": null,
   "metadata": {},
   "outputs": [],
   "source": [
    "def load_all_field_tests(base_dir, robot, task):\n",
    "    folder_path = os.path.join(base_dir, robot, task)\n",
    "    csv_files = glob(os.path.join(folder_path, \"*.csv\"))\n",
    "\n",
    "    runs = []\n",
    "    for file in csv_files:\n",
    "        df = pd.read_csv(file)\n",
    "        df[\"run_id\"] = os.path.basename(file)  # Store filename for tracking\n",
    "\n",
    "        runs.append(df)  # ✅ Ensures tuple format\n",
    "\n",
    "    print(f\"✅ Loaded {len(runs)} runs for {robot} - {task}.\")\n",
    "    return runs  # Ensure the return is a list of (df, filename)\n"
   ]
  },
  {
   "cell_type": "code",
   "execution_count": null,
   "metadata": {},
   "outputs": [],
   "source": [
    "def compute_cumulative_goals_field(run, threshold=0.2, robot=\"Kingfisher\"):\n",
    "    \"\"\"\n",
    "    Compute cumulative goals reached for a single field test run, handling column swaps for specific robots.\n",
    "\n",
    "    Args:\n",
    "        run (pd.DataFrame): Field test run dataframe.\n",
    "        robot (str): Name of the robot (used for column correction).\n",
    "        threshold (float): Distance threshold to consider a goal as reached.\n",
    "\n",
    "    Returns:\n",
    "        np.ndarray: Cumulative goals reached over time.\n",
    "    \"\"\"\n",
    "    # Detect the correct column based on the robot type\n",
    "    if robot == \"Kingfisher\":\n",
    "        distance_column = \"linear_velocities_bodyx.m/s\"  # Fix the swap\n",
    "    else:\n",
    "        distance_column = \"task_data.dist.m\"\n",
    "\n",
    "    if \"num_goals_reached.u\" not in run.columns:\n",
    "        print(f\"⚠️ No goals reached data found for {robot}.\")\n",
    "        goals_reached_csv = None\n",
    "    else:\n",
    "        print(f\"✅ Found goals reached data for {robot}.\")    \n",
    "        goals_reached_csv = run[\"num_goals_reached.u\"].values[-1]\n",
    "    # Ensure the column exists before proceeding\n",
    "    if distance_column not in run.columns:\n",
    "        raise ValueError(f\"Column '{distance_column}' not found in the field test data for {robot}\")\n",
    "\n",
    "    distances = run[distance_column].values\n",
    "    cumulative_goals = np.zeros_like(distances, dtype=int)\n",
    "    goal_reached_flag = False\n",
    "    total_goals = 0\n",
    "\n",
    "    for t in range(len(distances)):\n",
    "        if distances[t] < threshold and not goal_reached_flag:\n",
    "            total_goals += 1\n",
    "            goal_reached_flag = True\n",
    "        elif distances[t] > threshold:\n",
    "            goal_reached_flag = False\n",
    "        cumulative_goals[t] = total_goals\n",
    "\n",
    "    return cumulative_goals, goals_reached_csv"
   ]
  },
  {
   "cell_type": "code",
   "execution_count": null,
   "metadata": {},
   "outputs": [],
   "source": [
    "import matplotlib.pyplot as plt\n",
    "\n",
    "def plot_all_field_runs(runs, metric=\"distance_error.m\"):\n",
    "    \"\"\"\n",
    "    Plot all runs for a given metric.\n",
    "\n",
    "    Args:\n",
    "        runs (list): List of DataFrames.\n",
    "        metric (str): Metric to plot (e.g., \"distance_error.m\").\n",
    "    \"\"\"\n",
    "    plt.figure(figsize=(12, 6))\n",
    "\n",
    "    for df in runs:\n",
    "        if metric in df.columns:\n",
    "            plt.plot(df[metric], label=df[\"run_id\"].iloc[0])  # Use filename as legend\n",
    "\n",
    "    plt.xlabel(\"Timesteps\")\n",
    "    plt.ylabel(metric.replace(\"_\", \" \").title())\n",
    "    plt.title(f\"Field Test Runs - {metric.replace('_', ' ').title()}\")\n",
    "    plt.legend(loc=\"upper right\", fontsize=8, frameon=True)\n",
    "    plt.grid(True, linestyle=\"--\", linewidth=0.5, alpha=0.4)\n",
    "    plt.show()\n"
   ]
  },
  {
   "cell_type": "markdown",
   "metadata": {},
   "source": [
    "## Plot robot-task pair, showing all runs available in the folder"
   ]
  },
  {
   "cell_type": "code",
   "execution_count": null,
   "metadata": {},
   "outputs": [],
   "source": [
    "BASE_FIELD_DIR = \"../../../../../field_tests_data\"\n",
    "\n",
    "# Select robot and task\n",
    "robot = \"Turtlebot2\"\n",
    "task = \"GoThroughPositions\"\n",
    "\n",
    "# Load all runs\n",
    "all_runs = load_all_field_tests(BASE_FIELD_DIR, robot, task)\n",
    "print(f'total runs: {len(all_runs)}')\n",
    "# print the name of the run at its length\n",
    "for run in all_runs:\n",
    "    print(run[\"run_id\"].iloc[0], len(run)) # Print run name and length\n",
    "    goals_num, goals_reached = compute_cumulative_goals_field(run, threshold=0.2, robot=robot)\n",
    "    print(goals_num[-1], goals_reached) # Print the number of goals reached and the number of goals reached in the run\n",
    "    \n",
    "# Plot all runs for distance error\n",
    "if all_runs:\n",
    "    plot_all_field_runs(all_runs, metric=\"distance_error.m\")\n"
   ]
  },
  {
   "cell_type": "markdown",
   "metadata": {},
   "source": [
    "# Helper functions for plots and runs filtering"
   ]
  },
  {
   "cell_type": "markdown",
   "metadata": {},
   "source": [
    "### Manually assign labels to different run types based on their trajectory characteristics.\n",
    "Interactive labelling through command line"
   ]
  },
  {
   "cell_type": "code",
   "execution_count": null,
   "metadata": {},
   "outputs": [],
   "source": [
    "def manual_classify_runs(runs):\n",
    "    \"\"\"\n",
    "    Manually assign labels to different run types based on their trajectory characteristics.\n",
    "    \n",
    "    Args:\n",
    "        runs (list): List of DataFrames representing different runs.\n",
    "\n",
    "    Returns:\n",
    "        dict: Dictionary with cluster labels (e.g., \"Straight\", \"Zigzag\").\n",
    "    \"\"\"\n",
    "    cluster_labels = {}\n",
    "\n",
    "    print(\"\\n🛠️ Manually classify each run:\")\n",
    "    for run in runs:\n",
    "        plt.figure(figsize=(6, 4))\n",
    "        plt.plot(run[\"elapsed_time.s\"], run[\"num_goals_reached.u\"], label=run[\"run_id\"].iloc[0])\n",
    "        plt.xlabel(\"Time (s)\")\n",
    "        plt.ylabel(\"Cumulative Goals Reached\")\n",
    "        plt.title(f\"Run: {run['run_id'].iloc[0]}\")\n",
    "        plt.grid(True, linestyle=\"--\", linewidth=0.5, alpha=0.4)\n",
    "        plt.legend(fontsize=8, loc=\"upper left\")\n",
    "        plt.show()\n",
    "\n",
    "        label = input(\"Enter label for this run (e.g., 'Straight', 'Zigzag', 'Square', 'Diagonal'): \")\n",
    "        cluster_labels[run[\"run_id\"].iloc[0]] = label\n",
    "\n",
    "    return cluster_labels\n",
    "\n",
    "def plot_runs_by_category(runs, cluster_labels):\n",
    "    \"\"\"\n",
    "    Plot runs grouped by manually assigned categories.\n",
    "\n",
    "    Args:\n",
    "        runs (list): List of DataFrames representing different runs.\n",
    "        cluster_labels (dict): Dictionary of manually assigned cluster labels.\n",
    "    \"\"\"\n",
    "    unique_labels = set(cluster_labels.values())\n",
    "    \n",
    "    for label in unique_labels:\n",
    "        plt.figure(figsize=(10, 6))\n",
    "        \n",
    "        for run in runs:\n",
    "            run_id = run[\"run_id\"].iloc[0]\n",
    "            if cluster_labels[run_id] == label:\n",
    "                plt.plot(run[\"elapsed_time.s\"], run[\"num_goals_reached.u\"], label=run_id, alpha=0.7)\n",
    "\n",
    "        plt.xlabel(\"Time (s)\")\n",
    "        plt.ylabel(\"Cumulative Goals Reached\")\n",
    "        plt.title(f\"Cluster: {label}\")\n",
    "        plt.legend(fontsize=6, loc=\"upper right\", frameon=True)\n",
    "        plt.grid(True, linestyle=\"--\", linewidth=0.5, alpha=0.4)\n",
    "        plt.show()"
   ]
  },
  {
   "cell_type": "markdown",
   "metadata": {},
   "source": [
    "### Different plot functions"
   ]
  },
  {
   "cell_type": "code",
   "execution_count": null,
   "metadata": {},
   "outputs": [],
   "source": [
    "\n",
    "def plot_all_runs(runs, title=\"All Runs - Cumulative Goals\"):\n",
    "    \"\"\"\n",
    "    Plot all runs to identify different trajectory types.\n",
    "\n",
    "    Args:\n",
    "        runs (list): List of DataFrames representing different runs.\n",
    "        title (str): Title for the plot.\n",
    "    \"\"\"\n",
    "    plt.figure(figsize=(10, 6))\n",
    "    \n",
    "    for run in runs:\n",
    "        plt.plot(run[\"elapsed_time.s\"], run[\"num_goals_reached.u\"], label=run[\"run_id\"].iloc[0], alpha=0.7)\n",
    "\n",
    "    plt.xlabel(\"Time (s)\")\n",
    "    plt.ylabel(\"Cumulative Goals Reached\")\n",
    "    plt.title(title)\n",
    "    plt.legend(fontsize=6, loc=\"upper right\", frameon=True)\n",
    "    plt.grid(True, linestyle=\"--\", linewidth=0.5, alpha=0.4)\n",
    "    plt.show()\n"
   ]
  },
  {
   "cell_type": "code",
   "execution_count": null,
   "metadata": {},
   "outputs": [],
   "source": [
    "\n",
    "def plot_multiple_trajectories(runs, task, show_velocities=True, show_goals=True, max_runs=10):\n",
    "    \"\"\"\n",
    "    Plots multiple robot trajectories, goal locations, and optional velocity vectors.\n",
    "\n",
    "    Args:\n",
    "        runs (list of pd.DataFrame): List of run dataframes.\n",
    "        task (str): Task name.\n",
    "        show_velocities (bool): Whether to overlay velocity vectors.\n",
    "        show_goals (bool): Whether to mark goal positions.\n",
    "        max_runs (int): Limit the number of plotted runs to reduce clutter.\n",
    "    \"\"\"\n",
    "    sns.set_theme(style=\"darkgrid\")\n",
    "\n",
    "    plt.figure(figsize=(8, 7))\n",
    "\n",
    "    # Limit the number of runs plotted\n",
    "    plotted_runs = runs[:max_runs]\n",
    "\n",
    "    for run in plotted_runs:\n",
    "        positions = run[[\"position_world.x.m\", \"position_world.y.m\"]]\n",
    "        run_id = run[\"run_id\"].iloc[0]  # Identify run by filename\n",
    "\n",
    "        # Plot trajectory\n",
    "        plt.plot(positions[\"position_world.x.m\"], positions[\"position_world.y.m\"], label=run_id, alpha=0.7)\n",
    "\n",
    "        # Plot goal positions\n",
    "        if show_goals:\n",
    "            goals = run[[\"target_position.x.m\", \"target_position.y.m\"]].drop_duplicates()\n",
    "            plt.scatter(goals[\"target_position.x.m\"], goals[\"target_position.y.m\"], color=\"red\", marker=\"X\", s=100)\n",
    "\n",
    "        # Overlay velocity vectors\n",
    "        if show_velocities:\n",
    "            skip = max(1, len(run) // 30)  # Reduce clutter\n",
    "            plt.quiver(\n",
    "                run[\"position_world.x.m\"][::skip], run[\"position_world.y.m\"][::skip],\n",
    "                run[\"linear_velocities_worldx.m/s\"][::skip], run[\"linear_velocities_worldy.m/s\"][::skip],\n",
    "                color=\"orange\", angles=\"xy\", scale_units=\"xy\", scale=5, width=0.02\n",
    "            )\n",
    "\n",
    "    # Labels & aesthetics\n",
    "    plt.xlabel(\"X Position (m)\")\n",
    "    plt.ylabel(\"Y Position (m)\")\n",
    "    plt.title(f\"{task}: Trajectory & Goal Visualization\")\n",
    "    plt.legend(fontsize=6, loc=\"upper right\", frameon=True)\n",
    "    plt.grid(True, linestyle=\"--\", linewidth=0.5, alpha=0.4)\n",
    "    plt.show()\n"
   ]
  },
  {
   "cell_type": "code",
   "execution_count": null,
   "metadata": {},
   "outputs": [],
   "source": [
    "def plot_single_trajectory(run_df, run_id, task, show_velocities=True, show_goals=True):\n",
    "    \"\"\"\n",
    "    Plots a single robot trajectory with goal positions and velocity vectors.\n",
    "\n",
    "    Args:\n",
    "        run_df (pd.DataFrame): DataFrame of the run.\n",
    "        run_id (str): Name of the run file.\n",
    "        task (str): Task name.\n",
    "        show_velocities (bool): Whether to overlay velocity vectors.\n",
    "        show_goals (bool): Whether to mark goal positions.\n",
    "    \"\"\"\n",
    "    sns.set_theme(style=\"darkgrid\")\n",
    "    plt.figure(figsize=(8, 7))\n",
    "\n",
    "    # Extract positions\n",
    "    positions = run_df[[\"position_world.x.m\", \"position_world.y.m\"]]\n",
    "\n",
    "    # Plot trajectory\n",
    "    plt.plot(positions[\"position_world.x.m\"], positions[\"position_world.y.m\"], label=\"Trajectory\", color=\"blue\", alpha=0.7)\n",
    "\n",
    "    # Plot goal positions\n",
    "    if show_goals:\n",
    "        goals = run_df[[\"target_position.x.m\", \"target_position.y.m\"]].drop_duplicates()\n",
    "        plt.scatter(goals[\"target_position.x.m\"], goals[\"target_position.y.m\"], color=\"red\", marker=\"o\", s=100, label=\"Goals\")\n",
    "\n",
    "    # Overlay velocity vectors\n",
    "    if show_velocities:\n",
    "        skip = max(1, len(run_df) // 30)  # Reduce clutter\n",
    "        plt.quiver(\n",
    "            run_df[\"position_world.x.m\"][::skip], run_df[\"position_world.y.m\"][::skip],\n",
    "            run_df[\"linear_velocities_worldx.m/s\"][::skip], run_df[\"linear_velocities_worldy.m/s\"][::skip],\n",
    "            color=\"orange\", angles=\"xy\", scale_units=\"xy\", scale=5, width=0.02, label=\"Velocity Vectors\"\n",
    "        )\n",
    "\n",
    "    # Labels & aesthetics\n",
    "    plt.xlabel(\"X Position (m)\")\n",
    "    plt.ylabel(\"Y Position (m)\")\n",
    "    plt.title(f\"{task}: Trajectory - {run_id}\")\n",
    "    plt.legend()\n",
    "    plt.grid(True, linestyle=\"--\", linewidth=0.5, alpha=0.4)\n",
    "    plt.show()"
   ]
  },
  {
   "cell_type": "markdown",
   "metadata": {},
   "source": [
    "### Load robot-task"
   ]
  },
  {
   "cell_type": "code",
   "execution_count": null,
   "metadata": {},
   "outputs": [],
   "source": [
    "# Example Usage\n",
    "base_dir = \"../../../../../field_tests_data\"\n",
    "robot = \"Kingfisher\"\n",
    "task = \"TrackVelocities\""
   ]
  },
  {
   "cell_type": "markdown",
   "metadata": {},
   "source": [
    "### Select operation: plot single run, multiple runs, classify trajectories based on shape etc."
   ]
  },
  {
   "cell_type": "code",
   "execution_count": null,
   "metadata": {},
   "outputs": [],
   "source": [
    "\n",
    "# Load all runs\n",
    "all_runs_glob = load_all_field_tests(base_dir, robot, task)\n",
    "plot_multiple_trajectories(all_runs_glob, task, show_velocities=True, show_goals=True, max_runs=1)\n",
    "\n",
    "# # Manually classify runs\n",
    "# run_labels = manual_classify_runs(all_runs)\n",
    "\n",
    "# # Plot by category\n",
    "# plot_runs_by_category(all_runs, run_labels)\n",
    "\n",
    "# Save classification results\n",
    "# pd.DataFrame.from_dict(run_labels, orient=\"index\", columns=[\"Trajectory Type\"]).to_csv(\"manual_trajectory_classification.csv\")\n"
   ]
  },
  {
   "cell_type": "code",
   "execution_count": null,
   "metadata": {},
   "outputs": [],
   "source": [
    "for run_df in all_runs_glob:\n",
    "    RUN_ID = run_df[\"run_id\"].iloc[0]\n",
    "    # If run is longer than 350 steps, then plot it to 350 steps\n",
    "    # if len(run_df) > 400:\n",
    "    #     run_df = run_df[:400]\n",
    "    print(f\"\\n🔍 Plotting Run: {RUN_ID}, with length: {len(run_df)}\")\n",
    "    plot_single_trajectory(run_df, RUN_ID, task, show_velocities=True, show_goals=True)\n",
    "    # save the df to a csv file\n",
    "    # run_df.to_csv(f\"{RUN_ID.split('.')[0]}_short.csv\", index=False)\n"
   ]
  },
  {
   "cell_type": "code",
   "execution_count": null,
   "metadata": {},
   "outputs": [],
   "source": []
  }
 ],
 "metadata": {
  "kernelspec": {
   "display_name": "Python 3",
   "language": "python",
   "name": "python3"
  },
  "language_info": {
   "codemirror_mode": {
    "name": "ipython",
    "version": 3
   },
   "file_extension": ".py",
   "mimetype": "text/x-python",
   "name": "python",
   "nbconvert_exporter": "python",
   "pygments_lexer": "ipython3",
   "version": "3.10.12"
  }
 },
 "nbformat": 4,
 "nbformat_minor": 2
}
